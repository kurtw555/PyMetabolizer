{
 "cells": [
  {
   "cell_type": "code",
   "execution_count": null,
   "id": "c28dbac4",
   "metadata": {},
   "outputs": [],
   "source": [
    "#Import packages\n",
    "from rdkit import Chem\n",
    "from rdkit.Chem import AllChem\n",
    "import pandas as pd"
   ]
  },
  {
   "cell_type": "code",
   "execution_count": null,
   "id": "53b7a9fb",
   "metadata": {},
   "outputs": [],
   "source": [
    "# User inputs\n",
    "Ngen = 3  # Number of generations\n",
    "reaction_library = pd.DataFrame({\n",
    "    'Scheme_name': ['Scheme1', 'Scheme2'],\n",
    "    'Reaction_expression': ['[O:1]C(=O)[C:2].[O:3][C:4]>>[O:1]C(=O)[C:2][O:3][C:4]', '[C:1][O:2]>>[C:1]=[O:2]'],\n",
    "    'Rank': [1, 2],\n",
    "    'Reactivity_rule': [True, True],  # Simplified for demonstration\n",
    "    'Selectivity_rule': [False, False]  # Simplified for demonstration\n",
    "})"
   ]
  },
  {
   "cell_type": "code",
   "execution_count": null,
   "id": "3c33adee",
   "metadata": {},
   "outputs": [],
   "source": [
    "# Initialize parent molecule\n",
    "mol = ['c1ccccc1OCCOC(=O)CC']  # Parent SMILES\n",
    "gen = [0]\n",
    "ParentID = [0]\n",
    "F_deg = [0.0]\n",
    "production = [1.0]\n",
    "accumulation = [0.0]\n",
    "N_prod = [1]\n",
    "mol_index = 0\n",
    "prod_index = 0\n",
    "\n",
    "# Initialize reaction objects\n",
    "reactions = [AllChem.ReactionFromSmarts(exp) for exp in reaction_library['Reaction_expression']]"
   ]
  },
  {
   "cell_type": "code",
   "execution_count": null,
   "id": "92d67926",
   "metadata": {},
   "outputs": [],
   "source": [
    "# Main loop for generations\n",
    "from itertools import combinations\n",
    "for i in range(1, Ngen + 1):\n",
    "    m = prod_index\n",
    "    current_gen_indices = range(mol_index, mol_index + N_prod[i - 1])\n",
    "    reactant_mols = [Chem.MolFromSmiles(mol[j]) for j in current_gen_indices]\n",
    "    for p in range(N_prod[i - 1]):\n",
    "        j = mol_index + p\n",
    "        Np = 0\n",
    "        # Ensure F_deg is long enough\n",
    "        if j >= len(F_deg):\n",
    "            F_deg.append(0.0)\n",
    "        else:\n",
    "            F_deg[j] = 0.0\n",
    "\n",
    "        for k in range(len(reactions)):\n",
    "            reaction = reactions[k]\n",
    "            if reaction_library['Reactivity_rule'][k]:  # Simplified rule check\n",
    "                F = 7 ** reaction_library['Rank'][k]\n",
    "                num_reactants = reaction.GetNumReactantTemplates()\n",
    "                # Generate all possible reactant combinations for this reaction from current generation\n",
    "                for reactant_tuple_indices in combinations(current_gen_indices, num_reactants):\n",
    "                    reactant_tuple = tuple(Chem.MolFromSmiles(mol[idx]) for idx in reactant_tuple_indices)\n",
    "                    try:\n",
    "                        products = reaction.RunReactants(reactant_tuple)\n",
    "                    except Exception:\n",
    "                        continue\n",
    "                    for product_set in products:\n",
    "                        for product in product_set:\n",
    "                            product_smiles = Chem.MolToSmiles(product)\n",
    "                            Np += 1\n",
    "                            # Use the first reactant as parent for bookkeeping\n",
    "                            parent_idx = reactant_tuple_indices[0]\n",
    "                            # Extend lists for new molecule\n",
    "                            mol.append(product_smiles)\n",
    "                            gen.append(i)\n",
    "                            ParentID.append(parent_idx)\n",
    "                            # Ensure F_deg is long enough for parent_idx\n",
    "                            while parent_idx >= len(F_deg):\n",
    "                                F_deg.append(0.0)\n",
    "                            F_deg[parent_idx] += F\n",
    "                            production.append(production[parent_idx] * F / F_deg[parent_idx])\n",
    "                            accumulation.append(0.0)  # Placeholder for accumulation calculation\n",
    "                            N_prod.append(Np)\n",
    "    mol_index += N_prod[i - 1]\n",
    "    prod_index = mol_index + N_prod[i]"
   ]
  },
  {
   "cell_type": "code",
   "execution_count": null,
   "id": "b3e5ae2a",
   "metadata": {},
   "outputs": [],
   "source": [
    "# Calculate accumulation values\n",
    "for j in range(1, mol_index):\n",
    "    accumulation[j] = production[j] - production[ParentID[j]] * F_deg[j] / F_deg[ParentID[j]]\n",
    "\n",
    "# Output results\n",
    "for idx, smiles in enumerate(mol):\n",
    "    print(f\"Molecule {idx}: SMILES={smiles}, Generation={gen[idx]}, Production={production[idx]}, Accumulation={accumulation[idx]}\")"
   ]
  }
 ],
 "metadata": {
  "language_info": {
   "name": "python"
  }
 },
 "nbformat": 4,
 "nbformat_minor": 5
}
